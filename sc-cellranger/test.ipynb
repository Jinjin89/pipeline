{
 "cells": [
  {
   "cell_type": "code",
   "execution_count": 2,
   "metadata": {},
   "outputs": [],
   "source": [
    "import pandas as pd \n",
    "import glob\n",
    "import os \n",
    "import re"
   ]
  },
  {
   "cell_type": "code",
   "execution_count": 3,
   "metadata": {},
   "outputs": [],
   "source": [
    "def prepareSample(input_dir):\n",
    "    all_files = glob.glob(input_dir + \"/**/*fastq.gz\")\n",
    "    df = pd.DataFrame({\n",
    "        'file': all_files\n",
    "    })\n",
    "    df['reads'] = df['file'].str.extract(\"(R1|R2)\")\n",
    "    df['sample'] = df['file'].apply(os.path.basename).str.extract(r\"(HRR\\d+)\")\n",
    "    df = df.pivot(index='sample',columns='reads',values='file')\n",
    "    return df\n",
    "    \n",
    "df = prepareSample('/home/keke/base/raw/HRA003647')\n",
    "\n",
    "df.to_csv('sample.csv')"
   ]
  }
 ],
 "metadata": {
  "kernelspec": {
   "display_name": "bio",
   "language": "python",
   "name": "python3"
  },
  "language_info": {
   "codemirror_mode": {
    "name": "ipython",
    "version": 3
   },
   "file_extension": ".py",
   "mimetype": "text/x-python",
   "name": "python",
   "nbconvert_exporter": "python",
   "pygments_lexer": "ipython3",
   "version": "3.12.1"
  },
  "orig_nbformat": 4
 },
 "nbformat": 4,
 "nbformat_minor": 2
}
