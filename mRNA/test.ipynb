{
 "cells": [
  {
   "cell_type": "code",
   "execution_count": 1,
   "metadata": {},
   "outputs": [],
   "source": [
    "import pandas as pd \n",
    "import glob\n",
    "import os \n",
    "import re"
   ]
  },
  {
   "cell_type": "code",
   "execution_count": 2,
   "metadata": {},
   "outputs": [
    {
     "name": "stdout",
     "output_type": "stream",
     "text": [
      "How many samples not fastq?\n",
      "0\n",
      "How many samples with 2 fastq?\n",
      "132\n",
      "How many samples with more than 2 fastq?\n",
      "0\n"
     ]
    }
   ],
   "source": [
    "# 1) check bamfiles with fastq files\n",
    "def checkFastq(task_file = \"../../../fun/res/blca_task_found.csv\",R1R2 = r\"R1|R2\"):\n",
    "    import pandas as pd \n",
    "    import glob\n",
    "    import os \n",
    "    import re\n",
    "    task_not_found_fastq = []\n",
    "    task_found_fastq = []\n",
    "    task_found_fastq_more_than2 = []\n",
    "    df_list = []\n",
    "    # 1) get dataframe\n",
    "    task_df = pd.read_csv(task_file)\n",
    "    for each_dir in task_df[\"file_position\"]:\n",
    "        each_dir = str(each_dir).rstrip(\"/\")\n",
    "        # 1) get dirrectory\n",
    "        each_name = os.path.basename(each_dir)\n",
    "        # 2) check fastq \n",
    "        fq_found = glob.glob(each_dir + \"/*gz\")\n",
    "        if len(fq_found) == 0:\n",
    "            task_not_found_fastq.append(each_name)\n",
    "        elif len(fq_found) == 2:\n",
    "            task_found_fastq.append(each_name)\n",
    "            df_list.append(\n",
    "                pd.DataFrame({\n",
    "                    \"sample\" : [each_name] * 2,\n",
    "                    \"file_position\" :fq_found}))\n",
    "        else:\n",
    "            task_found_fastq_more_than2.append(each_name)\n",
    "    print(\"How many samples not fastq?\")\n",
    "    print(len(task_not_found_fastq))\n",
    "    print(\"How many samples with 2 fastq?\")\n",
    "    print(len(task_found_fastq))\n",
    "    print(\"How many samples with more than 2 fastq?\")\n",
    "    print(len(task_found_fastq_more_than2))\n",
    "\n",
    "    # get reads info \n",
    "    df  = pd.concat(df_list)\n",
    "    df[\"reads\"] =[re.search(R1R2,x)[0] for x in df[\"file_position\"]]\n",
    "    \n",
    "    df = df.pivot(columns=[\"reads\"],values=[\"file_position\"],index=\"sample\")\n",
    "    df.columns = [\"R1\",\"R2\"]\n",
    "    return df \n",
    "\n",
    "df = checkFastq()"
   ]
  }
 ],
 "metadata": {
  "kernelspec": {
   "display_name": "bio",
   "language": "python",
   "name": "python3"
  },
  "language_info": {
   "codemirror_mode": {
    "name": "ipython",
    "version": 3
   },
   "file_extension": ".py",
   "mimetype": "text/x-python",
   "name": "python",
   "nbconvert_exporter": "python",
   "pygments_lexer": "ipython3",
   "version": "3.11.3"
  },
  "orig_nbformat": 4
 },
 "nbformat": 4,
 "nbformat_minor": 2
}
