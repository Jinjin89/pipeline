{
 "cells": [
  {
   "cell_type": "code",
   "execution_count": 3,
   "metadata": {},
   "outputs": [],
   "source": [
    "import pandas as pd \n",
    "import glob\n",
    "import os \n",
    "import re"
   ]
  },
  {
   "cell_type": "code",
   "execution_count": null,
   "metadata": {},
   "outputs": [],
   "source": [
    "def list2xlsx(dict_of_dfs,xlsx_file_name,index=True):\n",
    "    with pd.ExcelWriter(xlsx_file_name, engine='xlsxwriter') as writer:\n",
    "    # Loop through the data frames in the dictionary\n",
    "        for sheet_name, df in dict_of_dfs.items():\n",
    "            # Write each data frame to a different sheet in the Excel file\n",
    "            df.to_excel(writer, sheet_name=sheet_name, index=index)\n",
    "\n",
    "def mergeExpressionFile(input_meta,outfile =None):\n",
    "    res_dict = {}\n",
    "    res_dict['counts'] = []\n",
    "    res_dict['FPKM'] = []\n",
    "    res_dict['TPM'] = []\n",
    "    '''\n",
    "    input_mRNA_dir contains directores of step02_align and step03_gene_abundance,\n",
    "    In this script, the function return the expression matrix of gene expression count and TPM/FPKM/...\n",
    "    '''\n",
    "    df = pd.read_csv(input_meta,index_col=0)\n",
    "    # df = df.head()\n",
    "    for each_sample in df.index:\n",
    "        expr_file = df.loc[each_sample,'gene_expression']\n",
    "        count_file = df.loc[each_sample,'counts']\n",
    "        # read expression data\n",
    "        df_expr = pd.read_table(expr_file)\n",
    "        df_count = pd.read_table(count_file,header=None)\n",
    "        df_count.columns = ['Gene ID','unstrand','First',\"Second\"]\n",
    "        df_count = df_count.drop_duplicates(subset='Gene ID',keep='first').set_index(\"Gene ID\")\n",
    "        #df_count = df_count.head(100)\n",
    "        df_count = df_count[~df_count.index.str.startswith(\"N_\")]\n",
    "\n",
    "        # remove duplicated gene id \n",
    "        df_expr = df_expr.drop_duplicates(subset='Gene ID',keep='first').set_index([\"Gene ID\",\"Gene Name\"])\n",
    "        \n",
    "        # 1) get count\n",
    "        df_count = df_count.loc[:,[\"unstrand\"]]\n",
    "        df_count.columns = [each_sample]\n",
    "        res_dict['counts'].append(df_count)\n",
    "\n",
    "        # 2) get FPKM\n",
    "        df_fpkm = df_expr.loc[:,[\"FPKM\"]]\n",
    "        df_fpkm.columns = [each_sample]\n",
    "        res_dict['FPKM'].append(df_fpkm)\n",
    "\n",
    "        # 3) get TPM \n",
    "        df_tpm = df_expr.loc[:,[\"TPM\"]]\n",
    "        df_tpm.columns = [each_sample]\n",
    "        res_dict['TPM'].append(df_tpm)\n",
    "\n",
    "    res_dict['counts'] = pd.concat(res_dict['counts'],axis=1)\n",
    "    res_dict['FPKM'] = pd.concat(res_dict['FPKM'],axis=1)\n",
    "    res_dict['TPM'] = pd.concat(res_dict['TPM'],axis=1)\n",
    "    if isinstance(outfile,str):\n",
    "        print(f\"The xlsx file supplied: {outfile}!\")\n",
    "        list2xlsx(dict_of_dfs = res_dict,xlsx_file_name=outfile)\n",
    "    return res_dict "
   ]
  },
  {
   "cell_type": "code",
   "execution_count": 20,
   "metadata": {},
   "outputs": [],
   "source": [
    "def prepareSample(input_dir):\n",
    "    all_files = glob.glob(input_dir + \"/**/*fastq.gz\")\n",
    "    df = pd.DataFrame({\n",
    "        'file': all_files\n",
    "    })\n",
    "    df['reads'] = df['file'].str.extract(\"(R1|R2)\")\n",
    "    df['sample'] = df['file'].apply(os.path.basename).str.extract(r\"(HRR\\d+)\")\n",
    "    df = df.pivot(index='sample',columns='reads',values='file')\n",
    "    return df\n",
    "    \n"
   ]
  },
  {
   "cell_type": "code",
   "execution_count": null,
   "metadata": {},
   "outputs": [],
   "source": [
    "df = prepareSample('/home/keke/base/raw/HRA003647')\n",
    "\n",
    "df.to_csv('sample.csv')"
   ]
  },
  {
   "cell_type": "code",
   "execution_count": null,
   "metadata": {},
   "outputs": [],
   "source": [
    "expr_file = mergeExpressionFile('/home/sunqiangqiang/data/project/immune/PRJNA482620/results/mRNA/meta.csv','PRJNA482620_expr.xlsx')"
   ]
  }
 ],
 "metadata": {
  "kernelspec": {
   "display_name": "bio",
   "language": "python",
   "name": "python3"
  },
  "language_info": {
   "codemirror_mode": {
    "name": "ipython",
    "version": 3
   },
   "file_extension": ".py",
   "mimetype": "text/x-python",
   "name": "python",
   "nbconvert_exporter": "python",
   "pygments_lexer": "ipython3",
   "version": "3.12.1"
  },
  "orig_nbformat": 4
 },
 "nbformat": 4,
 "nbformat_minor": 2
}
